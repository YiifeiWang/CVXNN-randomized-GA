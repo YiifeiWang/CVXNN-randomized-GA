{
 "cells": [
  {
   "cell_type": "code",
   "execution_count": null,
   "id": "f66347f8",
   "metadata": {},
   "outputs": [],
   "source": [
    "from datasets import load_dataset\n",
    "import pandas as pd\n",
    "import numpy as np"
   ]
  },
  {
   "cell_type": "code",
   "execution_count": null,
   "id": "dfb5c2f0",
   "metadata": {},
   "outputs": [],
   "source": [
    "dataset = load_dataset(\"parquet\", data_files={'train': 'data/glue_cola_train.parquet', 'test': 'data/glue_cola_val.parquet'})"
   ]
  },
  {
   "cell_type": "code",
   "execution_count": null,
   "id": "dbea8fcc",
   "metadata": {},
   "outputs": [],
   "source": [
    "# cola\n",
    "dataset = load_dataset('glue','cola')\n",
    "df_train = dataset['train'].to_pandas()\n",
    "df_val = dataset['validation'].to_pandas()\n",
    "df = pd.concat([df_train,df_val],ignore_index=True)\n",
    "df.to_csv('data/glue_cola_raw.csv',index=False)"
   ]
  },
  {
   "cell_type": "code",
   "execution_count": null,
   "id": "20fa9e2f",
   "metadata": {},
   "outputs": [],
   "source": [
    "# qqp\n",
    "dataset = load_dataset('glue','qqp')\n",
    "df_train = dataset['train'].to_pandas()\n",
    "df_val = dataset['validation'].to_pandas()\n",
    "df = pd.concat([df_train,df_val],ignore_index=True)\n",
    "df.to_csv('data/glue_qqp_raw.csv',index=False)"
   ]
  },
  {
   "cell_type": "code",
   "execution_count": null,
   "id": "4ec3a37b",
   "metadata": {},
   "outputs": [],
   "source": [
    "df"
   ]
  },
  {
   "cell_type": "code",
   "execution_count": null,
   "id": "7a0687bf",
   "metadata": {},
   "outputs": [],
   "source": [
    "df['review'] = 'Question 1: ' + df['question1']+ '\\n Question 2: ' +df['question2']"
   ]
  },
  {
   "cell_type": "code",
   "execution_count": null,
   "id": "b0d2055f",
   "metadata": {},
   "outputs": [],
   "source": [
    "df['review']"
   ]
  },
  {
   "cell_type": "code",
   "execution_count": null,
   "id": "ead2d9c2",
   "metadata": {},
   "outputs": [],
   "source": [
    "dataset = load_dataset(\"cifar10\").with_format(\"np\")\n",
    "data = np.concatenate([dataset['train']['img'],dataset['test']['img']],axis=0)\n",
    "label = np.concatenate([dataset['train']['label'],dataset['test']['label']],axis=0)\n",
    "data = data.reshape([60000,-1])\n",
    "np.savez('./data/cifar10.npz',data=data,label=label)"
   ]
  },
  {
   "cell_type": "code",
   "execution_count": null,
   "id": "2abb9343",
   "metadata": {},
   "outputs": [],
   "source": [
    "import torch\n",
    "import torchvision\n",
    "import torchvision.transforms as transforms\n",
    "from torch.utils.data import DataLoader"
   ]
  },
  {
   "cell_type": "code",
   "execution_count": null,
   "id": "b61fa3ba",
   "metadata": {},
   "outputs": [],
   "source": [
    "transform = transforms.Compose(\n",
    "    [transforms.ToTensor(),\n",
    "     transforms.Normalize((0.5, 0.5, 0.5), (0.5, 0.5, 0.5))])\n",
    "\n",
    "\n",
    "trainset = torchvision.datasets.CIFAR10(root='./data', train=True,\n",
    "                                        download=True, transform=transform)\n",
    "testset = torchvision.datasets.CIFAR10(root='./data', train=False,\n",
    "                                       download=True, transform=transform)"
   ]
  },
  {
   "cell_type": "code",
   "execution_count": null,
   "id": "d5109dc6",
   "metadata": {},
   "outputs": [],
   "source": [
    "train_loader = DataLoader(trainset, batch_size=len(trainset))\n",
    "train_data = next(iter(train_loader))[0].numpy()\n",
    "train_label = next(iter(train_loader))[1].numpy()\n",
    "\n",
    "test_loader = DataLoader(testset, batch_size=len(testset))\n",
    "test_data = next(iter(test_loader))[0].numpy()\n",
    "test_label = next(iter(test_loader))[1].numpy()\n",
    "np.savez('./data/cifar10_transformed.npz',train_data=train_data,train_label=train_label,test_data=test_data,test_label=test_label)"
   ]
  },
  {
   "cell_type": "code",
   "execution_count": null,
   "id": "eb3b97d1",
   "metadata": {},
   "outputs": [],
   "source": [
    "transforms_MNIST = transforms.Compose(\n",
    "    [\n",
    "        transforms.ToTensor(),\n",
    "        transforms.Normalize(mean = (0.1307,), std = (0.3081,))\n",
    "    ]\n",
    ")\n",
    "\n",
    "\n",
    "trainset = torchvision.datasets.MNIST(root='./data', train=True,\n",
    "                                        download=True, transform=transforms_MNIST)\n",
    "testset = torchvision.datasets.MNIST(root='./data', train=False,\n",
    "                                       download=True, transform=transforms_MNIST)"
   ]
  },
  {
   "cell_type": "code",
   "execution_count": null,
   "id": "c7d04e23",
   "metadata": {},
   "outputs": [],
   "source": [
    "train_loader = DataLoader(trainset, batch_size=len(trainset))\n",
    "train_data = next(iter(train_loader))[0].numpy()\n",
    "train_label = next(iter(train_loader))[1].numpy()\n",
    "\n",
    "test_loader = DataLoader(testset, batch_size=len(testset))\n",
    "test_data = next(iter(test_loader))[0].numpy()\n",
    "test_label = next(iter(test_loader))[1].numpy()\n",
    "np.savez('./data/mnist_transformed.npz',train_data=train_data,train_label=train_label,test_data=test_data,test_label=test_label)"
   ]
  }
 ],
 "metadata": {
  "kernelspec": {
   "display_name": "Python 3 (ipykernel)",
   "language": "python",
   "name": "python3"
  },
  "language_info": {
   "codemirror_mode": {
    "name": "ipython",
    "version": 3
   },
   "file_extension": ".py",
   "mimetype": "text/x-python",
   "name": "python",
   "nbconvert_exporter": "python",
   "pygments_lexer": "ipython3",
   "version": "3.10.13"
  }
 },
 "nbformat": 4,
 "nbformat_minor": 5
}
